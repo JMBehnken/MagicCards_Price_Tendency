{
 "cells": [
  {
   "cell_type": "markdown",
   "metadata": {},
   "source": [
    "# Requests with header is the fastes way to get the data"
   ]
  },
  {
   "cell_type": "code",
   "execution_count": 1,
   "metadata": {
    "collapsed": true
   },
   "outputs": [],
   "source": [
    "import time\n",
    "import requests\n",
    "from tqdm import tqdm\n",
    "from bs4 import BeautifulSoup\n",
    "from urllib.request import urlopen"
   ]
  },
  {
   "cell_type": "code",
   "execution_count": 2,
   "metadata": {
    "collapsed": true
   },
   "outputs": [],
   "source": [
    "url = 'https://www.cardmarket.com/de/Magic'\n",
    "cards = [tr.findAll('a')[1]['href'] for tr in BeautifulSoup(requests.get(url+'/Products/Singles?resultsPage=0').text, 'lxml').findAll('tr') if tr.find('a')]"
   ]
  },
  {
   "cell_type": "code",
   "execution_count": 3,
   "metadata": {},
   "outputs": [
    {
     "name": "stderr",
     "output_type": "stream",
     "text": [
      "100%|██████████| 30/30 [02:19<00:00,  4.64s/it]\n",
      "  0%|          | 0/30 [00:00<?, ?it/s]"
     ]
    },
    {
     "name": "stdout",
     "output_type": "stream",
     "text": [
      "URLs: 30\n",
      "Urllib Time: 139.868399143219\n"
     ]
    },
    {
     "name": "stderr",
     "output_type": "stream",
     "text": [
      "100%|██████████| 30/30 [02:08<00:00,  4.26s/it]\n",
      "  0%|          | 0/30 [00:00<?, ?it/s]"
     ]
    },
    {
     "name": "stdout",
     "output_type": "stream",
     "text": [
      "URLs: 30\n",
      "Requests Time: 128.68542051315308\n"
     ]
    },
    {
     "name": "stderr",
     "output_type": "stream",
     "text": [
      "100%|██████████| 30/30 [00:15<00:00,  1.44it/s]"
     ]
    },
    {
     "name": "stdout",
     "output_type": "stream",
     "text": [
      "URLs: 30\n",
      "Requests Header Time: 15.651453971862793\n"
     ]
    },
    {
     "name": "stderr",
     "output_type": "stream",
     "text": [
      "\n"
     ]
    }
   ],
   "source": [
    "start = time.time()\n",
    "for card in tqdm(list(cards)):\n",
    "    html = urlopen(url+card).read()\n",
    "ende = time.time()\n",
    "print('URLs: {}'.format(len(cards)))\n",
    "print('Urllib Time: {}'.format(ende-start))\n",
    "\n",
    "start = time.time()\n",
    "for card in tqdm(list(cards)):\n",
    "    html = requests.get(url+card).text\n",
    "ende = time.time()\n",
    "print('URLs: {}'.format(len(cards)))\n",
    "print('Requests Time: {}'.format(ende-start))\n",
    "\n",
    "headers = {'User-agent': 'Mozilla/5.0 (Windows NT 6.1; WOW64) AppleWebKit/537.36 (KHTML, like Gecko) Chrome/29.0.1547.76 Safari/537.36', 'Accept':'text/html,application/xhtml+xml,application/xml;q=0.9,*/*;q=0.8','Accept-Encoding':'gzip,deflate,sdch'}\n",
    "\n",
    "start = time.time()\n",
    "for card in tqdm(list(cards)):\n",
    "    html = requests.get(url+card, headers=headers).text\n",
    "ende = time.time()\n",
    "print('URLs: {}'.format(len(cards)))\n",
    "print('Requests Header Time: {}'.format(ende-start))"
   ]
  },
  {
   "cell_type": "code",
   "execution_count": null,
   "metadata": {
    "collapsed": true
   },
   "outputs": [],
   "source": []
  }
 ],
 "metadata": {
  "kernelspec": {
   "display_name": "Python 3",
   "language": "python",
   "name": "python3"
  },
  "language_info": {
   "codemirror_mode": {
    "name": "ipython",
    "version": 3
   },
   "file_extension": ".py",
   "mimetype": "text/x-python",
   "name": "python",
   "nbconvert_exporter": "python",
   "pygments_lexer": "ipython3",
   "version": "3.6.1"
  }
 },
 "nbformat": 4,
 "nbformat_minor": 2
}

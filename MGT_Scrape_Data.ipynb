{
 "cells": [
  {
   "cell_type": "code",
   "execution_count": 1,
   "metadata": {
    "collapsed": true
   },
   "outputs": [],
   "source": [
    "import re\n",
    "import ast\n",
    "import pyprind\n",
    "import requests\n",
    "import pandas as pd\n",
    "from bs4 import BeautifulSoup\n",
    "import matplotlib.pyplot as plt"
   ]
  },
  {
   "cell_type": "code",
   "execution_count": 2,
   "metadata": {
    "collapsed": true
   },
   "outputs": [],
   "source": [
    "url = r'https://www.cardmarket.com/de/Magic'"
   ]
  },
  {
   "cell_type": "code",
   "execution_count": 3,
   "metadata": {},
   "outputs": [
    {
     "name": "stderr",
     "output_type": "stream",
     "text": [
      "[100 %] Time elapsed: 00:00:01 | ETA: 00:00:00\n",
      "Total time elapsed: 00:00:01\n"
     ]
    }
   ],
   "source": [
    "n = 2\n",
    "\n",
    "cards = []\n",
    "headers = {'User-agent': 'Mozilla/5.0 (Windows NT 6.1; WOW64) AppleWebKit/537.36 (KHTML, like Gecko) Chrome/29.0.1547.76 Safari/537.36', 'Accept':'text/html,application/xhtml+xml,application/xml;q=0.9,*/*;q=0.8','Accept-Encoding':'gzip,deflate,sdch'}\n",
    "bar = pyprind.ProgPercent(n)\n",
    "for i in range(n):\n",
    "    bs = BeautifulSoup(requests.get(url+'/Products/Singles?resultsPage={}'.format(i), headers=headers).text, 'lxml')\n",
    "    cards.append([tr.findAll('a')[1]['href'] for tr in bs.findAll('tr') if tr.find('a')])\n",
    "    bar.update()"
   ]
  },
  {
   "cell_type": "code",
   "execution_count": 4,
   "metadata": {},
   "outputs": [
    {
     "data": {
      "text/plain": [
       "60"
      ]
     },
     "execution_count": 4,
     "metadata": {},
     "output_type": "execute_result"
    }
   ],
   "source": [
    "cards = {card for liste in cards for card in liste}\n",
    "len(cards)"
   ]
  },
  {
   "cell_type": "code",
   "execution_count": 5,
   "metadata": {
    "scrolled": true
   },
   "outputs": [
    {
     "name": "stderr",
     "output_type": "stream",
     "text": [
      "[100 %] Time elapsed: 00:01:08 | ETA: 00:00:00\n",
      "Total time elapsed: 00:01:08\n"
     ]
    }
   ],
   "source": [
    "data = []\n",
    "bar = pyprind.ProgPercent(len(cards))\n",
    "for card in cards:\n",
    "    html = requests.get('https://www.cardmarket.com'+card, headers=headers).text\n",
    "    bs = BeautifulSoup(html, 'lxml')\n",
    "    \n",
    "    try:\n",
    "        chartData = ast.literal_eval(re.search('chartData =(.*?);', str(bs)).group(1))\n",
    "        df = pd.DataFrame(list(zip(chartData['labels'], chartData['datasets'][0]['data'])), columns=['Date', 'Price'])\n",
    "        df['Date'] = pd.to_datetime(df['Date'], dayfirst=True)\n",
    "        df['Link'] = card\n",
    "        splitted = card.split('/')\n",
    "        df['Name'] = splitted[6]\n",
    "        df['Edition'] = splitted[5]\n",
    "        df['Rarity'] = bs.find('tbody').find('td', {'class':'outerTop outerRight col_Odd col_1 cell_0_1'}).find('span')['onmouseover'].split(\"'\")[1]\n",
    "        df['Available'] = int(bs.find('span', {'itemprop':'offerCount'}).get_text())\n",
    "        data.append(df)\n",
    "    except:\n",
    "        pass\n",
    "    bar.update()"
   ]
  },
  {
   "cell_type": "code",
   "execution_count": 6,
   "metadata": {},
   "outputs": [
    {
     "name": "stdout",
     "output_type": "stream",
     "text": [
      "(1646, 6)\n"
     ]
    },
    {
     "data": {
      "text/html": [
       "<div>\n",
       "<style>\n",
       "    .dataframe thead tr:only-child th {\n",
       "        text-align: right;\n",
       "    }\n",
       "\n",
       "    .dataframe thead th {\n",
       "        text-align: left;\n",
       "    }\n",
       "\n",
       "    .dataframe tbody tr th {\n",
       "        vertical-align: top;\n",
       "    }\n",
       "</style>\n",
       "<table border=\"1\" class=\"dataframe\">\n",
       "  <thead>\n",
       "    <tr style=\"text-align: right;\">\n",
       "      <th></th>\n",
       "      <th>Price</th>\n",
       "      <th>Link</th>\n",
       "      <th>Name</th>\n",
       "      <th>Edition</th>\n",
       "      <th>Rarity</th>\n",
       "      <th>Available</th>\n",
       "    </tr>\n",
       "    <tr>\n",
       "      <th>Date</th>\n",
       "      <th></th>\n",
       "      <th></th>\n",
       "      <th></th>\n",
       "      <th></th>\n",
       "      <th></th>\n",
       "      <th></th>\n",
       "    </tr>\n",
       "  </thead>\n",
       "  <tbody>\n",
       "    <tr>\n",
       "      <th>2018-03-26</th>\n",
       "      <td>0.51</td>\n",
       "      <td>/de/Magic/Products/Singles/Masters+25/Gedanken...</td>\n",
       "      <td>Gedankenwirbel</td>\n",
       "      <td>Masters+25</td>\n",
       "      <td>Common</td>\n",
       "      <td>4101</td>\n",
       "    </tr>\n",
       "    <tr>\n",
       "      <th>2018-03-27</th>\n",
       "      <td>0.52</td>\n",
       "      <td>/de/Magic/Products/Singles/Masters+25/Gedanken...</td>\n",
       "      <td>Gedankenwirbel</td>\n",
       "      <td>Masters+25</td>\n",
       "      <td>Common</td>\n",
       "      <td>4101</td>\n",
       "    </tr>\n",
       "    <tr>\n",
       "      <th>2018-03-28</th>\n",
       "      <td>0.54</td>\n",
       "      <td>/de/Magic/Products/Singles/Masters+25/Gedanken...</td>\n",
       "      <td>Gedankenwirbel</td>\n",
       "      <td>Masters+25</td>\n",
       "      <td>Common</td>\n",
       "      <td>4101</td>\n",
       "    </tr>\n",
       "    <tr>\n",
       "      <th>2018-03-29</th>\n",
       "      <td>0.48</td>\n",
       "      <td>/de/Magic/Products/Singles/Masters+25/Gedanken...</td>\n",
       "      <td>Gedankenwirbel</td>\n",
       "      <td>Masters+25</td>\n",
       "      <td>Common</td>\n",
       "      <td>4101</td>\n",
       "    </tr>\n",
       "    <tr>\n",
       "      <th>2018-03-30</th>\n",
       "      <td>0.63</td>\n",
       "      <td>/de/Magic/Products/Singles/Masters+25/Gedanken...</td>\n",
       "      <td>Gedankenwirbel</td>\n",
       "      <td>Masters+25</td>\n",
       "      <td>Common</td>\n",
       "      <td>4101</td>\n",
       "    </tr>\n",
       "  </tbody>\n",
       "</table>\n",
       "</div>"
      ],
      "text/plain": [
       "            Price                                               Link  \\\n",
       "Date                                                                   \n",
       "2018-03-26   0.51  /de/Magic/Products/Singles/Masters+25/Gedanken...   \n",
       "2018-03-27   0.52  /de/Magic/Products/Singles/Masters+25/Gedanken...   \n",
       "2018-03-28   0.54  /de/Magic/Products/Singles/Masters+25/Gedanken...   \n",
       "2018-03-29   0.48  /de/Magic/Products/Singles/Masters+25/Gedanken...   \n",
       "2018-03-30   0.63  /de/Magic/Products/Singles/Masters+25/Gedanken...   \n",
       "\n",
       "                      Name     Edition  Rarity  Available  \n",
       "Date                                                       \n",
       "2018-03-26  Gedankenwirbel  Masters+25  Common       4101  \n",
       "2018-03-27  Gedankenwirbel  Masters+25  Common       4101  \n",
       "2018-03-28  Gedankenwirbel  Masters+25  Common       4101  \n",
       "2018-03-29  Gedankenwirbel  Masters+25  Common       4101  \n",
       "2018-03-30  Gedankenwirbel  Masters+25  Common       4101  "
      ]
     },
     "execution_count": 6,
     "metadata": {},
     "output_type": "execute_result"
    }
   ],
   "source": [
    "df = pd.concat(data)\n",
    "df = df.set_index('Date')\n",
    "df.to_csv('build/MGT_Cards.csv')\n",
    "print(df.shape)\n",
    "df.head()"
   ]
  },
  {
   "cell_type": "code",
   "execution_count": null,
   "metadata": {
    "collapsed": true
   },
   "outputs": [],
   "source": []
  }
 ],
 "metadata": {
  "kernelspec": {
   "display_name": "Python 3",
   "language": "python",
   "name": "python3"
  },
  "language_info": {
   "codemirror_mode": {
    "name": "ipython",
    "version": 3
   },
   "file_extension": ".py",
   "mimetype": "text/x-python",
   "name": "python",
   "nbconvert_exporter": "python",
   "pygments_lexer": "ipython3",
   "version": "3.6.1"
  }
 },
 "nbformat": 4,
 "nbformat_minor": 2
}

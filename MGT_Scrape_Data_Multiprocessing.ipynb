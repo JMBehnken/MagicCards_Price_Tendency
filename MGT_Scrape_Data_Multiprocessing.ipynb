{
 "cells": [
  {
   "cell_type": "code",
   "execution_count": 1,
   "metadata": {},
   "outputs": [],
   "source": [
    "import re\n",
    "import ast\n",
    "import pyprind\n",
    "import requests\n",
    "import numpy as np\n",
    "import pandas as pd\n",
    "from bs4 import BeautifulSoup\n",
    "\n",
    "from multiprocessing import Pool, Manager\n",
    "\n",
    "import time\n",
    "start = time.time()"
   ]
  },
  {
   "cell_type": "code",
   "execution_count": 2,
   "metadata": {
    "collapsed": true
   },
   "outputs": [],
   "source": [
    "url = r'https://www.cardmarket.com/de/Magic'\n",
    "headers = {'User-agent': 'Mozilla/5.0 (Windows NT 6.1; WOW64) AppleWebKit/537.36 (KHTML, like Gecko) Chrome/29.0.1547.76 Safari/537.36', 'Accept':'text/html,application/xhtml+xml,application/xml;q=0.9,*/*;q=0.8','Accept-Encoding':'gzip,deflate,sdch'}"
   ]
  },
  {
   "cell_type": "code",
   "execution_count": 3,
   "metadata": {
    "collapsed": true
   },
   "outputs": [],
   "source": [
    "agent = ['Mozilla/{}.0 (Windows NT 6.1; WOW64) AppleWebKit/537.36 (KHTML, like Gecko) Chrome/29.0.1547.76 Safari/537.36'.format(i) for i in range(5, 10)]\n",
    "accept = ['text/html,application/xhtml+xml,application/xml;q=0.9,*/*;q=0.8']\n",
    "encoding = ['gzip,deflate,sdch']"
   ]
  },
  {
   "cell_type": "code",
   "execution_count": 4,
   "metadata": {},
   "outputs": [
    {
     "data": {
      "text/plain": [
       "150"
      ]
     },
     "execution_count": 4,
     "metadata": {},
     "output_type": "execute_result"
    }
   ],
   "source": [
    "n = 5\n",
    "\n",
    "manager = Manager()\n",
    "cards = manager.list()\n",
    "\n",
    "def pageGenerator(n):\n",
    "    for i in range(n):\n",
    "        yield i    \n",
    "\n",
    "def getCardURLs(i, cards=cards):\n",
    "    bs = BeautifulSoup(requests.get(url+'/Products/Singles?resultsPage={}'.format(i), headers=headers).text, 'lxml')\n",
    "    cards.append([tr.findAll('a')[1]['href'] for tr in bs.findAll('tr') if tr.find('a')])\n",
    "\n",
    "pool = Pool()\n",
    "pool.map(getCardURLs, pageGenerator(n))\n",
    "\n",
    "cards = {card for liste in cards for card in liste}\n",
    "len(cards)"
   ]
  },
  {
   "cell_type": "code",
   "execution_count": 5,
   "metadata": {
    "scrolled": true
   },
   "outputs": [],
   "source": [
    "data = manager.list()\n",
    "error_urls = manager.list()\n",
    "\n",
    "def cardGenerator(cards):\n",
    "    for i, card in enumerate(cards):\n",
    "        if i%2==0:\n",
    "            time.sleep(2)\n",
    "        yield card\n",
    "\n",
    "def getCardData(card, data=data, error_urls=error_urls):\n",
    "    html = requests.get('https://www.cardmarket.com'+card, headers={'User-agent': np.random.choice(agent), 'Accept':np.random.choice(accept),'Accept-Encoding':np.random.choice(encoding)}).text\n",
    "    bs = BeautifulSoup(html, 'lxml')\n",
    "    try:\n",
    "        chartData = ast.literal_eval(re.search('chartData =(.*?);', str(bs)).group(1))\n",
    "        df = pd.DataFrame(list(zip(chartData['labels'], chartData['datasets'][0]['data'])), columns=['Date', 'Price'])\n",
    "        df['Date'] = pd.to_datetime(df['Date'], dayfirst=True)\n",
    "        df['Link'] = card\n",
    "        splitted = card.split('/')\n",
    "        df['Name'] = splitted[6]\n",
    "        df['Edition'] = splitted[5]\n",
    "        df['Rarity'] = bs.find('tbody').find('td', {'class':'outerTop outerRight col_Odd col_1 cell_0_1'}).find('span')['onmouseover'].split(\"'\")[1]\n",
    "        df['Available'] = int(bs.find('span', {'itemprop':'offerCount'}).get_text())\n",
    "        data.append(df)\n",
    "    except: return bs\n",
    "\n",
    "pool = Pool(5)\n",
    "_ = pool.map(getCardData, cardGenerator(cards))"
   ]
  },
  {
   "cell_type": "code",
   "execution_count": 6,
   "metadata": {},
   "outputs": [
    {
     "name": "stdout",
     "output_type": "stream",
     "text": [
      "(4156, 6)\n"
     ]
    },
    {
     "data": {
      "text/html": [
       "<div>\n",
       "<style>\n",
       "    .dataframe thead tr:only-child th {\n",
       "        text-align: right;\n",
       "    }\n",
       "\n",
       "    .dataframe thead th {\n",
       "        text-align: left;\n",
       "    }\n",
       "\n",
       "    .dataframe tbody tr th {\n",
       "        vertical-align: top;\n",
       "    }\n",
       "</style>\n",
       "<table border=\"1\" class=\"dataframe\">\n",
       "  <thead>\n",
       "    <tr style=\"text-align: right;\">\n",
       "      <th></th>\n",
       "      <th>Price</th>\n",
       "      <th>Link</th>\n",
       "      <th>Name</th>\n",
       "      <th>Edition</th>\n",
       "      <th>Rarity</th>\n",
       "      <th>Available</th>\n",
       "    </tr>\n",
       "    <tr>\n",
       "      <th>Date</th>\n",
       "      <th></th>\n",
       "      <th></th>\n",
       "      <th></th>\n",
       "      <th></th>\n",
       "      <th></th>\n",
       "      <th></th>\n",
       "    </tr>\n",
       "  </thead>\n",
       "  <tbody>\n",
       "    <tr>\n",
       "      <th>2018-04-04</th>\n",
       "      <td>0.08</td>\n",
       "      <td>/de/Magic/Products/Singles/Dominaria/Entrei%C3...</td>\n",
       "      <td>Entrei%C3%9Fen</td>\n",
       "      <td>Dominaria</td>\n",
       "      <td>Common</td>\n",
       "      <td>3438</td>\n",
       "    </tr>\n",
       "    <tr>\n",
       "      <th>2018-04-05</th>\n",
       "      <td>0.06</td>\n",
       "      <td>/de/Magic/Products/Singles/Dominaria/Entrei%C3...</td>\n",
       "      <td>Entrei%C3%9Fen</td>\n",
       "      <td>Dominaria</td>\n",
       "      <td>Common</td>\n",
       "      <td>3438</td>\n",
       "    </tr>\n",
       "    <tr>\n",
       "      <th>2018-04-06</th>\n",
       "      <td>0.09</td>\n",
       "      <td>/de/Magic/Products/Singles/Dominaria/Entrei%C3...</td>\n",
       "      <td>Entrei%C3%9Fen</td>\n",
       "      <td>Dominaria</td>\n",
       "      <td>Common</td>\n",
       "      <td>3438</td>\n",
       "    </tr>\n",
       "    <tr>\n",
       "      <th>2018-04-07</th>\n",
       "      <td>0.06</td>\n",
       "      <td>/de/Magic/Products/Singles/Dominaria/Entrei%C3...</td>\n",
       "      <td>Entrei%C3%9Fen</td>\n",
       "      <td>Dominaria</td>\n",
       "      <td>Common</td>\n",
       "      <td>3438</td>\n",
       "    </tr>\n",
       "    <tr>\n",
       "      <th>2018-04-08</th>\n",
       "      <td>0.06</td>\n",
       "      <td>/de/Magic/Products/Singles/Dominaria/Entrei%C3...</td>\n",
       "      <td>Entrei%C3%9Fen</td>\n",
       "      <td>Dominaria</td>\n",
       "      <td>Common</td>\n",
       "      <td>3438</td>\n",
       "    </tr>\n",
       "  </tbody>\n",
       "</table>\n",
       "</div>"
      ],
      "text/plain": [
       "            Price                                               Link  \\\n",
       "Date                                                                   \n",
       "2018-04-04   0.08  /de/Magic/Products/Singles/Dominaria/Entrei%C3...   \n",
       "2018-04-05   0.06  /de/Magic/Products/Singles/Dominaria/Entrei%C3...   \n",
       "2018-04-06   0.09  /de/Magic/Products/Singles/Dominaria/Entrei%C3...   \n",
       "2018-04-07   0.06  /de/Magic/Products/Singles/Dominaria/Entrei%C3...   \n",
       "2018-04-08   0.06  /de/Magic/Products/Singles/Dominaria/Entrei%C3...   \n",
       "\n",
       "                      Name    Edition  Rarity  Available  \n",
       "Date                                                      \n",
       "2018-04-04  Entrei%C3%9Fen  Dominaria  Common       3438  \n",
       "2018-04-05  Entrei%C3%9Fen  Dominaria  Common       3438  \n",
       "2018-04-06  Entrei%C3%9Fen  Dominaria  Common       3438  \n",
       "2018-04-07  Entrei%C3%9Fen  Dominaria  Common       3438  \n",
       "2018-04-08  Entrei%C3%9Fen  Dominaria  Common       3438  "
      ]
     },
     "execution_count": 6,
     "metadata": {},
     "output_type": "execute_result"
    }
   ],
   "source": [
    "df = pd.concat(data)\n",
    "df = df.set_index('Date')\n",
    "df.to_csv('build/MGT_Cards.csv')\n",
    "print(df.shape)\n",
    "df.head()"
   ]
  },
  {
   "cell_type": "code",
   "execution_count": 7,
   "metadata": {},
   "outputs": [
    {
     "name": "stdout",
     "output_type": "stream",
     "text": [
      "Duration: 194.62215423583984\n"
     ]
    }
   ],
   "source": [
    "ende = time.time()\n",
    "print('Duration: {}'.format(ende-start))"
   ]
  },
  {
   "cell_type": "code",
   "execution_count": null,
   "metadata": {
    "collapsed": true
   },
   "outputs": [],
   "source": []
  }
 ],
 "metadata": {
  "kernelspec": {
   "display_name": "Python 3",
   "language": "python",
   "name": "python3"
  },
  "language_info": {
   "codemirror_mode": {
    "name": "ipython",
    "version": 3
   },
   "file_extension": ".py",
   "mimetype": "text/x-python",
   "name": "python",
   "nbconvert_exporter": "python",
   "pygments_lexer": "ipython3",
   "version": "3.6.1"
  }
 },
 "nbformat": 4,
 "nbformat_minor": 2
}
